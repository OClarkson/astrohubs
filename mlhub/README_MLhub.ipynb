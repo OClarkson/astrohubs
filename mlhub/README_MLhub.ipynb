{
 "cells": [
  {
   "cell_type": "markdown",
   "metadata": {},
   "source": [
    "# MLhub\n",
    "This is the machine learning appliction of the cyberhubs system. It contains [popular ML python packages](https://raw.githubusercontent.com/cyberlaboratories/astrohubs/0d98159bb980b3f9b665463970e4c4da59adb9b9/mlhub/single_pip3_requirements_mlhub.txt). "
   ]
  }
 ],
 "metadata": {
  "kernelspec": {
   "display_name": "Python 3",
   "language": "python",
   "name": "python3"
  },
  "language_info": {
   "codemirror_mode": {
    "name": "ipython",
    "version": 3
   },
   "file_extension": ".py",
   "mimetype": "text/x-python",
   "name": "python",
   "nbconvert_exporter": "python",
   "pygments_lexer": "ipython3",
   "version": "3.6.4"
  }
 },
 "nbformat": 4,
 "nbformat_minor": 2
}
